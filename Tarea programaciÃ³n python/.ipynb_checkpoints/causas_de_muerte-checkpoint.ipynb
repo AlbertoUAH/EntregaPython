{
 "cells": [
  {
   "cell_type": "markdown",
   "metadata": {
    "collapsed": true
   },
   "source": [
    "<h1>\n",
    "    <center>\n",
    "        Causas de muerte en el mundo\n",
    "    </center>\n",
    "</h1>\n",
    "\n",
    "<h2>\n",
    "    <center>\n",
    "        Nombre Apellido1 Apellido2\n",
    "        <br> <br>\n",
    "        Fecha\n",
    "    </center>\n",
    "</h2>\n",
    "\n",
    "<hr>"
   ]
  },
  {
   "cell_type": "markdown",
   "metadata": {
    "collapsed": true
   },
   "source": [
    "## Introducción\n",
    "\n"
   ]
  },
  {
   "cell_type": "markdown",
   "metadata": {},
   "source": [
    "... Aquí se puede introducir la descripción general del ejercicio ..."
   ]
  },
  {
   "cell_type": "markdown",
   "metadata": {
    "collapsed": true
   },
   "source": [
    "## Apartado a) \n",
    "\n",
    "En las páginas de World in Dats puedes encontrar una tabla csv sobre el crecimiento de la población mundial por países (Population growth by country). Diseña una función que cargue dicha tabla y genere un diccionario, que para cada país y cada año, nos dé su población.\n",
    "\n",
    "Ten cuidado, además de los países, esta tabla contiene información de regiones (Europa por ejemplo), con o sin código, y del mundo entero.\n"
   ]
  },
  {
   "cell_type": "code",
   "execution_count": 1,
   "metadata": {},
   "outputs": [],
   "source": [
    "# Este apartado debe ser completado por el estudiante\n",
    "\n"
   ]
  },
  {
   "cell_type": "markdown",
   "metadata": {},
   "source": [
    "Seguidamente mostramos unas cuentas pruebas de funcionamiento."
   ]
  },
  {
   "cell_type": "code",
   "execution_count": 2,
   "metadata": {},
   "outputs": [],
   "source": [
    "# ........................ Pruebas diseñadas y ejecutadas por el estudiante ....................."
   ]
  },
  {
   "cell_type": "markdown",
   "metadata": {
    "collapsed": true
   },
   "source": [
    "## Apartados siguientes\n",
    "\n",
    ".....................\n",
    "Aquí vienen los demás apartados uno a uno, con sus definiciones y sus pruebas\n",
    ".....................\n"
   ]
  },
  {
   "cell_type": "markdown",
   "metadata": {
    "collapsed": true
   },
   "source": [
    "<hr>\n",
    "\n",
    "### Datos personales\n",
    "\n",
    "-   **Apellidos:** ......................................\n",
    "-   **Nombre:** ......................................\n",
    "-   **Email:** ......................................\n",
    "-   **Fecha:** ......................................\n",
    "\n",
    "<hr>\n",
    "\n",
    "### Ficha de autoevaluación\n",
    "\n",
    "**Comentarios**: ..................... comentarios del estudiante .....................\n",
    "\n",
    "|Apartado|Calificación|Comentario|\n",
    "|-|-|-|\n",
    "|a) |1.5 / 1.5  |Completamente resuelto |\n",
    "|b) |0.75 / 1.5 |Resuelto a medias |\n",
    "|c) |0.0 / 1.5  |No he logrado el correcto funcionamiento |\n",
    "|...|... / ...  |... |\n",
    "|**Total** |**8.75** / 10.0|**Notable**|\n",
    "\n",
    "\n",
    "**Nota**: La valoración de cada apartado será la siguiente:\n",
    "\n",
    "- Apartados a, b, c, d, e: 1.5 puntos\n",
    "- Apartados f, g, h, i: 0.5 puntos\n",
    "- Apartado j: 0.4 puntos\n",
    "- Apartado k: 0.1 puntos\n",
    "\n",
    "\n",
    "### Ayuda recibida y fuentes utilizadas\n",
    "\n",
    "..................... comentarios del estudiante .....................\n",
    "\n",
    "### Comentario adicional\n",
    "\n",
    "..................... Este apartado es optativo ....................."
   ]
  }
 ],
 "metadata": {
  "kernelspec": {
   "display_name": "Python 3",
   "language": "python",
   "name": "python3"
  },
  "language_info": {
   "codemirror_mode": {
    "name": "ipython",
    "version": 3
   },
   "file_extension": ".py",
   "mimetype": "text/x-python",
   "name": "python",
   "nbconvert_exporter": "python",
   "pygments_lexer": "ipython3",
   "version": "3.7.0"
  }
 },
 "nbformat": 4,
 "nbformat_minor": 2
}
